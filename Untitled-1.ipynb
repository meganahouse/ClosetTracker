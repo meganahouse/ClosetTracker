{
 "cells": [
  {
   "cell_type": "code",
   "execution_count": 3,
   "metadata": {},
   "outputs": [
    {
     "name": "stdout",
     "output_type": "stream",
     "text": [
      "Hi Daddy Dordor\n"
     ]
    }
   ],
   "source": [
    "print(\"Hi Daddy Dordor\")"
   ]
  },
  {
   "cell_type": "code",
   "execution_count": 5,
   "metadata": {},
   "outputs": [
    {
     "name": "stdout",
     "output_type": "stream",
     "text": [
      "[['name', 'height', 'gender', 'favorite color'], ['amanda', '5ft 5in', 'girl', 'teal'], ['austin', '5ft 10in', 'boy', 'red']]\n"
     ]
    }
   ],
   "source": [
    "siblings = [\n",
    "    [\"name\", \"height\", \"gender\", \"favorite color\"],\n",
    "    [\"amanda\", \"5ft 5in\", \"girl\", \"teal\"],\n",
    "    [\"austin\", \"5ft 10in\", \"boy\", \"red\"]\n",
    "]\n",
    "\n",
    "print(siblings)"
   ]
  },
  {
   "cell_type": "code",
   "execution_count": null,
   "metadata": {},
   "outputs": [],
   "source": [
    "import pandas as pd"
   ]
  }
 ],
 "metadata": {
  "kernelspec": {
   "display_name": "Python 3.10.1 64-bit",
   "language": "python",
   "name": "python3"
  },
  "language_info": {
   "codemirror_mode": {
    "name": "ipython",
    "version": 3
   },
   "file_extension": ".py",
   "mimetype": "text/x-python",
   "name": "python",
   "nbconvert_exporter": "python",
   "pygments_lexer": "ipython3",
   "version": "3.10.1"
  },
  "orig_nbformat": 4,
  "vscode": {
   "interpreter": {
    "hash": "aee8b7b246df8f9039afb4144a1f6fd8d2ca17a180786b69acc140d282b71a49"
   }
  }
 },
 "nbformat": 4,
 "nbformat_minor": 2
}
